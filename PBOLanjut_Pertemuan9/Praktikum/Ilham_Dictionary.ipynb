{
 "cells": [
  {
   "cell_type": "code",
   "execution_count": 1,
   "id": "de1717fd-a6d8-4aa5-84a1-56f989bb05b1",
   "metadata": {},
   "outputs": [
    {
     "name": "stdout",
     "output_type": "stream",
     "text": [
      "dict['Age']:  8\n",
      "dict['School']:  DPS School\n"
     ]
    }
   ],
   "source": [
    "dict = {'Name': 'Zara', 'Age': 7, 'Class': 'First'}\n",
    "dict['Age'] = 8; # Mengubah entri yang sudah ada\n",
    "dict['School'] = \"DPS School\" # Menambah entri baru\n",
    "\n",
    "print (\"dict['Age']: \", dict['Age'])\n",
    "print (\"dict['School']: \", dict['School'])"
   ]
  },
  {
   "cell_type": "code",
   "execution_count": 2,
   "id": "49d9bdea-b4b4-4d8e-b40a-a15a1df8e41c",
   "metadata": {},
   "outputs": [
    {
     "name": "stdout",
     "output_type": "stream",
     "text": [
      "{'Age': 8, 'Class': 'First', 'School': 'DPS School'}\n"
     ]
    }
   ],
   "source": [
    "del dict['Name']\n",
    "print(dict)"
   ]
  },
  {
   "cell_type": "code",
   "execution_count": 4,
   "id": "ff4a3387-4168-4f5a-b9a8-17b1a0dd5b2d",
   "metadata": {},
   "outputs": [
    {
     "name": "stdout",
     "output_type": "stream",
     "text": [
      "{}\n"
     ]
    }
   ],
   "source": [
    "dict.clear()\n",
    "print(dict)"
   ]
  },
  {
   "cell_type": "code",
   "execution_count": 5,
   "id": "5112d91b-d79d-45de-9996-55b376b031cb",
   "metadata": {},
   "outputs": [
    {
     "name": "stdout",
     "output_type": "stream",
     "text": [
      "<class 'dict'>\n"
     ]
    }
   ],
   "source": [
    "del dict\n",
    "print(dict)"
   ]
  },
  {
   "cell_type": "code",
   "execution_count": 6,
   "id": "8eaf8cdf-6379-4036-a547-7cdb6c8577b9",
   "metadata": {},
   "outputs": [
    {
     "data": {
      "text/plain": [
       "3"
      ]
     },
     "execution_count": 6,
     "metadata": {},
     "output_type": "execute_result"
    }
   ],
   "source": [
    "ilham = {'Name': 'Ilham', 'Age': 20, 'Class': 'Semester 4'}\n",
    "len(ilham)"
   ]
  },
  {
   "cell_type": "code",
   "execution_count": 7,
   "id": "8f80a861-7b9b-4cef-b2f0-90b909049cf5",
   "metadata": {},
   "outputs": [
    {
     "data": {
      "text/plain": [
       "\"{'Name': 'Ilham', 'Age': 20, 'Class': 'Semester 4'}\""
      ]
     },
     "execution_count": 7,
     "metadata": {},
     "output_type": "execute_result"
    }
   ],
   "source": [
    "str(ilham)"
   ]
  },
  {
   "cell_type": "code",
   "execution_count": 8,
   "id": "66fcbca4-b2fa-4146-9605-9a176e07da71",
   "metadata": {},
   "outputs": [
    {
     "data": {
      "text/plain": [
       "str"
      ]
     },
     "execution_count": 8,
     "metadata": {},
     "output_type": "execute_result"
    }
   ],
   "source": [
    "type('Name')"
   ]
  },
  {
   "cell_type": "code",
   "execution_count": 9,
   "id": "09acb6c8-6b83-439c-bc2a-ecae64e23c0e",
   "metadata": {},
   "outputs": [
    {
     "name": "stdout",
     "output_type": "stream",
     "text": [
      "{'Name': 'Ilham', 'Age': 20, 'Class': 'Semester 4', 'Makanan': 'Nasi Lengko'}\n"
     ]
    }
   ],
   "source": [
    "belanja = {'Makanan' : 'Nasi Lengko'}\n",
    "ilham.update(belanja)\n",
    "print(ilham)"
   ]
  },
  {
   "cell_type": "code",
   "execution_count": 10,
   "id": "3e117eb8-c847-4364-8924-8a6ac9de4a14",
   "metadata": {},
   "outputs": [
    {
     "data": {
      "text/plain": [
       "dict_values(['Ilham', 20, 'Semester 4', 'Nasi Lengko'])"
      ]
     },
     "execution_count": 10,
     "metadata": {},
     "output_type": "execute_result"
    }
   ],
   "source": [
    "ilham.values()"
   ]
  },
  {
   "cell_type": "code",
   "execution_count": 11,
   "id": "6062a028-5693-4ec3-82d4-9e247877bec5",
   "metadata": {},
   "outputs": [
    {
     "data": {
      "text/plain": [
       "dict_items([('Name', 'Ilham'), ('Age', 20), ('Class', 'Semester 4'), ('Makanan', 'Nasi Lengko')])"
      ]
     },
     "execution_count": 11,
     "metadata": {},
     "output_type": "execute_result"
    }
   ],
   "source": [
    "ilham.items()"
   ]
  },
  {
   "cell_type": "code",
   "execution_count": null,
   "id": "8713ed0f-86c2-4f09-a68f-09e7cf9b33e3",
   "metadata": {},
   "outputs": [],
   "source": []
  }
 ],
 "metadata": {
  "kernelspec": {
   "display_name": "Python 3 (ipykernel)",
   "language": "python",
   "name": "python3"
  },
  "language_info": {
   "codemirror_mode": {
    "name": "ipython",
    "version": 3
   },
   "file_extension": ".py",
   "mimetype": "text/x-python",
   "name": "python",
   "nbconvert_exporter": "python",
   "pygments_lexer": "ipython3",
   "version": "3.10.10"
  }
 },
 "nbformat": 4,
 "nbformat_minor": 5
}
