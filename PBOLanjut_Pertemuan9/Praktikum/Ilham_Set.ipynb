{
 "cells": [
  {
   "cell_type": "code",
   "execution_count": 1,
   "id": "6d899260-5b4c-4736-8bbb-6e16e43cdf28",
   "metadata": {},
   "outputs": [
    {
     "name": "stdout",
     "output_type": "stream",
     "text": [
      "ID Mahasiswa: {112, 114, 115, 116, 118}\n"
     ]
    }
   ],
   "source": [
    "id_mhs = {112, 114, 116, 118, 115}\n",
    "print('ID Mahasiswa:', id_mhs)"
   ]
  },
  {
   "cell_type": "code",
   "execution_count": 6,
   "id": "a339f6e4-ecf3-4e9e-a07b-e9cf85984b23",
   "metadata": {},
   "outputs": [
    {
     "name": "stdout",
     "output_type": "stream",
     "text": [
      "Data type of empty_set: <class 'set'>\n",
      "Data type of empty_dictionary: <class 'dict'>\n"
     ]
    }
   ],
   "source": [
    "empty_set = set()\n",
    "empty_dictionary = { }\n",
    "print('Data type of empty_set:', type(empty_set))\n",
    "print('Data type of empty_dictionary:', type(empty_dictionary))"
   ]
  },
  {
   "cell_type": "code",
   "execution_count": 3,
   "id": "84a38ffa-75ad-4fa3-b1af-12651ad0381d",
   "metadata": {},
   "outputs": [
    {
     "name": "stdout",
     "output_type": "stream",
     "text": [
      "{1, 2, 3, 4, 5, 7, 8, 9}\n"
     ]
    }
   ],
   "source": [
    "angka = {1,2,2,5,5,7,7,7,3,4,4,9,8}\n",
    "print(angka)"
   ]
  },
  {
   "cell_type": "code",
   "execution_count": 4,
   "id": "38575276-d994-42c8-a43f-b42705d341c8",
   "metadata": {},
   "outputs": [
    {
     "name": "stdout",
     "output_type": "stream",
     "text": [
      "Initial Set: {1, 2, 3, 4, 5}\n",
      "Updated Set: {32, 1, 2, 3, 4, 5}\n"
     ]
    }
   ],
   "source": [
    "angka2 = {1,2,3,4,5}\n",
    "\n",
    "print('Initial Set:',angka2)\n",
    "\n",
    "angka2.add(32)\n",
    "\n",
    "print('Updated Set:', angka2) "
   ]
  },
  {
   "cell_type": "code",
   "execution_count": 7,
   "id": "60c13f55-ca88-4f52-8c0f-8b2b432a61a9",
   "metadata": {},
   "outputs": [
    {
     "name": "stdout",
     "output_type": "stream",
     "text": [
      "{'Hafid', 'Fikri', 'Ilham', 'Rama', 'Putra'}\n"
     ]
    }
   ],
   "source": [
    "set1 = {'Hafid', 'Ilham', 'Fikri'}\n",
    "set2 = {'Rama', 'Putra'}\n",
    "set1.update(set2)\n",
    "print(set1)"
   ]
  },
  {
   "cell_type": "code",
   "execution_count": 8,
   "id": "1b4146cf-7711-4d92-99ee-2ca389b481d8",
   "metadata": {},
   "outputs": [
    {
     "name": "stdout",
     "output_type": "stream",
     "text": [
      "{'Hafid', 'Fikri', 'Ilham', 'Rama'}\n"
     ]
    }
   ],
   "source": [
    "removedValue = set1.discard('Putra')\n",
    "print(set1)"
   ]
  },
  {
   "cell_type": "code",
   "execution_count": 9,
   "id": "25e222a3-5e39-4700-a44e-c113cc08fe5e",
   "metadata": {},
   "outputs": [
    {
     "data": {
      "text/plain": [
       "True"
      ]
     },
     "execution_count": 9,
     "metadata": {},
     "output_type": "execute_result"
    }
   ],
   "source": [
    "all(set1)"
   ]
  },
  {
   "cell_type": "code",
   "execution_count": 10,
   "id": "7e6a6206-4d27-4e98-8ba0-ec6e59e9d7a8",
   "metadata": {},
   "outputs": [
    {
     "data": {
      "text/plain": [
       "True"
      ]
     },
     "execution_count": 10,
     "metadata": {},
     "output_type": "execute_result"
    }
   ],
   "source": [
    "any(empty_set)\n",
    "any(set1)"
   ]
  },
  {
   "cell_type": "code",
   "execution_count": 11,
   "id": "ae21ae15-037c-4098-82ae-e261e6816f78",
   "metadata": {},
   "outputs": [
    {
     "data": {
      "text/plain": [
       "False"
      ]
     },
     "execution_count": 11,
     "metadata": {},
     "output_type": "execute_result"
    }
   ],
   "source": [
    "any(empty_set)"
   ]
  },
  {
   "cell_type": "code",
   "execution_count": 13,
   "id": "65135191-0339-4d14-80fe-dea348543ce1",
   "metadata": {},
   "outputs": [
    {
     "data": {
      "text/plain": [
       "8"
      ]
     },
     "execution_count": 13,
     "metadata": {},
     "output_type": "execute_result"
    }
   ],
   "source": [
    "len(angka)"
   ]
  },
  {
   "cell_type": "code",
   "execution_count": 14,
   "id": "889e4096-36b1-46fd-8918-772166943a52",
   "metadata": {},
   "outputs": [
    {
     "data": {
      "text/plain": [
       "9"
      ]
     },
     "execution_count": 14,
     "metadata": {},
     "output_type": "execute_result"
    }
   ],
   "source": [
    "max(angka)"
   ]
  },
  {
   "cell_type": "code",
   "execution_count": 15,
   "id": "17a3cd7f-e592-44bc-93a2-e5f9eece4a04",
   "metadata": {},
   "outputs": [
    {
     "data": {
      "text/plain": [
       "1"
      ]
     },
     "execution_count": 15,
     "metadata": {},
     "output_type": "execute_result"
    }
   ],
   "source": [
    "min(angka)"
   ]
  },
  {
   "cell_type": "code",
   "execution_count": 16,
   "id": "2231992b-f309-4c9f-ac81-05ad10c0586d",
   "metadata": {},
   "outputs": [
    {
     "name": "stdout",
     "output_type": "stream",
     "text": [
      "angka setelah sort : {1, 2, 3, 4, 5, 7, 8, 9}\n"
     ]
    }
   ],
   "source": [
    "sorted(angka)\n",
    "print('angka setelah sort :', angka)"
   ]
  },
  {
   "cell_type": "code",
   "execution_count": 17,
   "id": "4aefa02c-d341-4bb9-9db5-fb50f44df065",
   "metadata": {},
   "outputs": [
    {
     "data": {
      "text/plain": [
       "39"
      ]
     },
     "execution_count": 17,
     "metadata": {},
     "output_type": "execute_result"
    }
   ],
   "source": [
    "sum(angka)"
   ]
  },
  {
   "cell_type": "code",
   "execution_count": 18,
   "id": "10379d2b-5cba-4fb7-b86a-48f1a3937584",
   "metadata": {},
   "outputs": [
    {
     "data": {
      "text/plain": [
       "6"
      ]
     },
     "execution_count": 18,
     "metadata": {},
     "output_type": "execute_result"
    }
   ],
   "source": [
    "ilham = {1,2,3}\n",
    "sum(ilham)"
   ]
  },
  {
   "cell_type": "code",
   "execution_count": null,
   "id": "8d05dd1e-393f-4ac4-9d7e-914172671566",
   "metadata": {},
   "outputs": [],
   "source": []
  }
 ],
 "metadata": {
  "kernelspec": {
   "display_name": "Python 3 (ipykernel)",
   "language": "python",
   "name": "python3"
  },
  "language_info": {
   "codemirror_mode": {
    "name": "ipython",
    "version": 3
   },
   "file_extension": ".py",
   "mimetype": "text/x-python",
   "name": "python",
   "nbconvert_exporter": "python",
   "pygments_lexer": "ipython3",
   "version": "3.10.10"
  }
 },
 "nbformat": 4,
 "nbformat_minor": 5
}
