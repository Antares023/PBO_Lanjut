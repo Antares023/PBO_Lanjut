{
 "cells": [
  {
   "cell_type": "code",
   "execution_count": 1,
   "id": "bba0d8ea-bcc9-46d6-b775-62f006fe2e96",
   "metadata": {},
   "outputs": [
    {
     "name": "stdout",
     "output_type": "stream",
     "text": [
      "list1:  ['fisika', 'kimia', 'matematika', 1993, 2017]\n",
      "list2[1:7]:  [2, 3, 4, 5, 6, 7]\n"
     ]
    }
   ],
   "source": [
    "list1 = ['fisika', 'kimia', 'matematika', 1993, 2017]\n",
    "list2 = [1, 2, 3, 4, 5, 6, 7, 8, 9, 10 ]\n",
    "\n",
    "print (\"list1: \", list1)\n",
    "print (\"list2[1:7]: \", list2[1:7])"
   ]
  },
  {
   "cell_type": "code",
   "execution_count": 4,
   "id": "9c5fe106-a11f-478f-87d0-0946d967a724",
   "metadata": {},
   "outputs": [
    {
     "name": "stdout",
     "output_type": "stream",
     "text": [
      "Nilai terbaru dari list1 adalah : ['fisika', 'kimia', 'matematika', 1993, 2003]\n"
     ]
    }
   ],
   "source": [
    "list1 [4] = 2003\n",
    "print(\"Nilai terbaru dari list1 adalah :\", list1)"
   ]
  },
  {
   "cell_type": "code",
   "execution_count": 5,
   "id": "f2dd53df-c434-4b9d-9523-4389e5bee1f4",
   "metadata": {},
   "outputs": [
    {
     "name": "stdout",
     "output_type": "stream",
     "text": [
      "['fisika', 'kimia', 'matematika', 1993, 2003]\n",
      "Setelah list[2] dihapus list1 menjadi : ['fisika', 'kimia', 1993, 2003]\n"
     ]
    }
   ],
   "source": [
    "print(list1)\n",
    "del list1[2]\n",
    "print(\"Setelah list[2] dihapus list1 menjadi :\", list1)"
   ]
  },
  {
   "cell_type": "code",
   "execution_count": 6,
   "id": "017e993d-29bb-4b3f-910e-654c4d80f19d",
   "metadata": {},
   "outputs": [
    {
     "data": {
      "text/plain": [
       "4"
      ]
     },
     "execution_count": 6,
     "metadata": {},
     "output_type": "execute_result"
    }
   ],
   "source": [
    "len(list1)"
   ]
  },
  {
   "cell_type": "code",
   "execution_count": 7,
   "id": "35b8e42b-d54c-4f39-b2f9-e1b9a816909b",
   "metadata": {},
   "outputs": [
    {
     "name": "stdout",
     "output_type": "stream",
     "text": [
      "['fisika', 'kimia', 1993, 2003, 1, 2, 3, 4, 5, 6, 7, 8, 9, 10]\n"
     ]
    }
   ],
   "source": [
    "list3 = list1 + list2\n",
    "print(list3)"
   ]
  },
  {
   "cell_type": "code",
   "execution_count": 8,
   "id": "5218f0c4-2710-43cd-bfca-eff8c80849a0",
   "metadata": {},
   "outputs": [
    {
     "data": {
      "text/plain": [
       "14"
      ]
     },
     "execution_count": 8,
     "metadata": {},
     "output_type": "execute_result"
    }
   ],
   "source": [
    "len (list3)"
   ]
  },
  {
   "cell_type": "code",
   "execution_count": 9,
   "id": "5285bd38-64cc-4d74-8d0d-72bffcfff15e",
   "metadata": {},
   "outputs": [
    {
     "name": "stdout",
     "output_type": "stream",
     "text": [
      "['Halo Ilham!, ', 'Halo Ilham!, ', 'Halo Ilham!, ']\n"
     ]
    }
   ],
   "source": [
    "list4 = ['Halo Ilham!, ']\n",
    "print(list4 * 3)"
   ]
  },
  {
   "cell_type": "code",
   "execution_count": 10,
   "id": "e0e72687-f474-44fa-a542-bc538c2de0c6",
   "metadata": {},
   "outputs": [
    {
     "data": {
      "text/plain": [
       "True"
      ]
     },
     "execution_count": 10,
     "metadata": {},
     "output_type": "execute_result"
    }
   ],
   "source": [
    "9 in list2"
   ]
  },
  {
   "cell_type": "code",
   "execution_count": 11,
   "id": "b6dbbebc-8e5a-46c3-8bd8-cef44bc1f5b8",
   "metadata": {},
   "outputs": [
    {
     "name": "stdout",
     "output_type": "stream",
     "text": [
      "1 2 3 4 5 6 7 8 9 10 "
     ]
    }
   ],
   "source": [
    "for x in list2 : print(x, end = ' ')"
   ]
  },
  {
   "cell_type": "code",
   "execution_count": 13,
   "id": "e10e43aa-6c7a-4ffe-b956-d2cf2d850441",
   "metadata": {},
   "outputs": [
    {
     "data": {
      "text/plain": [
       "10"
      ]
     },
     "execution_count": 13,
     "metadata": {},
     "output_type": "execute_result"
    }
   ],
   "source": [
    "max(list2)"
   ]
  },
  {
   "cell_type": "code",
   "execution_count": 14,
   "id": "16e15526-b6e1-441a-8506-66d8346ff1bc",
   "metadata": {},
   "outputs": [
    {
     "data": {
      "text/plain": [
       "1"
      ]
     },
     "execution_count": 14,
     "metadata": {},
     "output_type": "execute_result"
    }
   ],
   "source": [
    "min(list2)"
   ]
  },
  {
   "cell_type": "code",
   "execution_count": 19,
   "id": "ad8a24d7-6f93-4899-bc7c-017505ad9b08",
   "metadata": {},
   "outputs": [
    {
     "name": "stdout",
     "output_type": "stream",
     "text": [
      "[1, 2, 3, 4, 5, 6, 7, 8, 9, 10, 2, 2]\n"
     ]
    }
   ],
   "source": [
    "list2.append(2)\n",
    "print(list2)"
   ]
  },
  {
   "cell_type": "code",
   "execution_count": 20,
   "id": "d63590f9-84bf-44f0-aec0-60c9d4cbe246",
   "metadata": {},
   "outputs": [
    {
     "data": {
      "text/plain": [
       "3"
      ]
     },
     "execution_count": 20,
     "metadata": {},
     "output_type": "execute_result"
    }
   ],
   "source": [
    "list2.count(2)"
   ]
  },
  {
   "cell_type": "code",
   "execution_count": 24,
   "id": "419a39ec-473b-4e89-ad02-e071f0fcb151",
   "metadata": {},
   "outputs": [
    {
     "data": {
      "text/plain": [
       "0"
      ]
     },
     "execution_count": 24,
     "metadata": {},
     "output_type": "execute_result"
    }
   ],
   "source": [
    "list2.index(1)"
   ]
  },
  {
   "cell_type": "code",
   "execution_count": 27,
   "id": "07e89c8d-bc94-433a-9a6f-8a16a16abf38",
   "metadata": {},
   "outputs": [],
   "source": [
    "list1.insert(0, 'cirebon')"
   ]
  },
  {
   "cell_type": "code",
   "execution_count": 28,
   "id": "c3015e9a-34d3-4cf4-bae0-4196cd08566f",
   "metadata": {},
   "outputs": [
    {
     "name": "stdout",
     "output_type": "stream",
     "text": [
      "['cirebon', 'fisika', 'kimia', 1993, 2003]\n"
     ]
    }
   ],
   "source": [
    "print(list1)"
   ]
  },
  {
   "cell_type": "code",
   "execution_count": 29,
   "id": "b7e9a22f-e201-4257-8ad9-3a7031560b89",
   "metadata": {},
   "outputs": [
    {
     "name": "stdout",
     "output_type": "stream",
     "text": [
      "['fisika', 'kimia', 1993, 2003]\n"
     ]
    }
   ],
   "source": [
    "list1.pop(0)\n",
    "print(list1)"
   ]
  },
  {
   "cell_type": "code",
   "execution_count": 30,
   "id": "d47dcf24-7e22-490c-b387-69d522531f12",
   "metadata": {},
   "outputs": [
    {
     "name": "stdout",
     "output_type": "stream",
     "text": [
      "[1, 3, 4, 5, 6, 7, 8, 9, 10, 2, 2]\n"
     ]
    }
   ],
   "source": [
    "list2.remove(2)\n",
    "print(list2)"
   ]
  },
  {
   "cell_type": "code",
   "execution_count": 31,
   "id": "3af13bf1-6aae-4682-801e-d487aaac3c20",
   "metadata": {},
   "outputs": [
    {
     "name": "stdout",
     "output_type": "stream",
     "text": [
      "[2003, 1993, 'kimia', 'fisika']\n",
      "[2, 2, 10, 9, 8, 7, 6, 5, 4, 3, 1]\n"
     ]
    }
   ],
   "source": [
    "list1.reverse()\n",
    "list2.reverse()\n",
    "print(list1)\n",
    "print(list2)"
   ]
  },
  {
   "cell_type": "code",
   "execution_count": 32,
   "id": "af66bcb7-161a-41ce-b3e8-fe7de1bb3ccc",
   "metadata": {},
   "outputs": [
    {
     "name": "stdout",
     "output_type": "stream",
     "text": [
      "[1, 2, 2, 3, 4, 5, 6, 7, 8, 9, 10]\n"
     ]
    }
   ],
   "source": [
    "list2.sort()\n",
    "print(list2)"
   ]
  },
  {
   "cell_type": "code",
   "execution_count": null,
   "id": "5b6e3acb-8c6e-4884-ab60-8493a31d99b6",
   "metadata": {},
   "outputs": [],
   "source": []
  }
 ],
 "metadata": {
  "kernelspec": {
   "display_name": "Python 3 (ipykernel)",
   "language": "python",
   "name": "python3"
  },
  "language_info": {
   "codemirror_mode": {
    "name": "ipython",
    "version": 3
   },
   "file_extension": ".py",
   "mimetype": "text/x-python",
   "name": "python",
   "nbconvert_exporter": "python",
   "pygments_lexer": "ipython3",
   "version": "3.10.10"
  }
 },
 "nbformat": 4,
 "nbformat_minor": 5
}
