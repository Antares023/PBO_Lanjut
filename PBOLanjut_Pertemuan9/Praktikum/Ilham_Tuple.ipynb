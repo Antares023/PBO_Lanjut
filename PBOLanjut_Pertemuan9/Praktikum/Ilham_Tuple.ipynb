{
 "cells": [
  {
   "cell_type": "code",
   "execution_count": 1,
   "id": "5d1b389f-309e-4bbe-88c7-9e2ca746fb9e",
   "metadata": {},
   "outputs": [
    {
     "name": "stdout",
     "output_type": "stream",
     "text": [
      "nilai tup1 : (1, 2, 3, 4, 5)\n",
      "nilai tup2[0] : ilham\n"
     ]
    }
   ],
   "source": [
    "tup1 = (1,2,3,4,5)\n",
    "tup2 = ('ilham', 'hafid', 'fikri')\n",
    "print(\"nilai tup1 :\", tup1)\n",
    "print(\"nilai tup2[0] :\", tup2[0])"
   ]
  },
  {
   "cell_type": "code",
   "execution_count": 2,
   "id": "bd0092fe-85b9-4190-b7f0-506b6db9412c",
   "metadata": {},
   "outputs": [
    {
     "name": "stdout",
     "output_type": "stream",
     "text": [
      "10\n"
     ]
    }
   ],
   "source": [
    "tup =(1,5,8,3,9,10)\n",
    "print(max(tup))"
   ]
  },
  {
   "cell_type": "code",
   "execution_count": 9,
   "id": "ecb2d0dd-b410-46e1-8115-e3b94854bf79",
   "metadata": {},
   "outputs": [
    {
     "name": "stdout",
     "output_type": "stream",
     "text": [
      "Nilai dari tup3 : (1, 2, 3, 4, 5, 'ilham', 'hafid', 'fikri')\n"
     ]
    }
   ],
   "source": [
    "tup1 = (1,2,3,4,5)\n",
    "tup2 = ('ilham', 'hafid', 'fikri')\n",
    "tup3 = tup1 + tup2\n",
    "print(\"Nilai dari tup3 :\", tup3)"
   ]
  },
  {
   "cell_type": "code",
   "execution_count": 10,
   "id": "9d98f18d-2dd9-4039-8bf9-87dcfd283560",
   "metadata": {},
   "outputs": [],
   "source": [
    "del tup3"
   ]
  },
  {
   "cell_type": "code",
   "execution_count": 11,
   "id": "e4a62e81-5b86-40b4-bc4a-2d138e16434d",
   "metadata": {},
   "outputs": [
    {
     "ename": "NameError",
     "evalue": "name 'tup3' is not defined",
     "output_type": "error",
     "traceback": [
      "\u001b[1;31m---------------------------------------------------------------------------\u001b[0m",
      "\u001b[1;31mNameError\u001b[0m                                 Traceback (most recent call last)",
      "Cell \u001b[1;32mIn[11], line 1\u001b[0m\n\u001b[1;32m----> 1\u001b[0m \u001b[38;5;28mprint\u001b[39m(\u001b[43mtup3\u001b[49m)\n",
      "\u001b[1;31mNameError\u001b[0m: name 'tup3' is not defined"
     ]
    }
   ],
   "source": [
    "print(tup3)"
   ]
  },
  {
   "cell_type": "code",
   "execution_count": 12,
   "id": "2cd9012e-2565-4bc3-9db6-efff0e15c686",
   "metadata": {},
   "outputs": [
    {
     "data": {
      "text/plain": [
       "5"
      ]
     },
     "execution_count": 12,
     "metadata": {},
     "output_type": "execute_result"
    }
   ],
   "source": [
    "len(tup1)"
   ]
  },
  {
   "cell_type": "code",
   "execution_count": 14,
   "id": "d96e3fc0-0132-4063-96d1-6496521ce4bc",
   "metadata": {},
   "outputs": [
    {
     "name": "stdout",
     "output_type": "stream",
     "text": [
      "Halo Dunia!, Halo Dunia!, Halo Dunia!, Halo Dunia!, \n"
     ]
    }
   ],
   "source": [
    "tup4 = ('Halo Dunia!, ')\n",
    "print(tup4 * 4)"
   ]
  },
  {
   "cell_type": "code",
   "execution_count": 16,
   "id": "35d8f9e5-fbb6-4563-a847-7d0847614acb",
   "metadata": {},
   "outputs": [
    {
     "data": {
      "text/plain": [
       "True"
      ]
     },
     "execution_count": 16,
     "metadata": {},
     "output_type": "execute_result"
    }
   ],
   "source": [
    "5 in tup1"
   ]
  },
  {
   "cell_type": "code",
   "execution_count": 17,
   "id": "c8179b01-5d42-420e-8f01-136239d3417b",
   "metadata": {},
   "outputs": [
    {
     "name": "stdout",
     "output_type": "stream",
     "text": [
      "(1, 2, 3, 4, 5)\n"
     ]
    }
   ],
   "source": [
    "print(tup1)"
   ]
  },
  {
   "cell_type": "code",
   "execution_count": 18,
   "id": "512c130f-9f75-4eae-805f-c5965dda7347",
   "metadata": {},
   "outputs": [
    {
     "name": "stdout",
     "output_type": "stream",
     "text": [
      "1 2 3 4 5 "
     ]
    }
   ],
   "source": [
    "for x in tup1 : print(x, end = ' ')"
   ]
  },
  {
   "cell_type": "code",
   "execution_count": 19,
   "id": "ed9b9731-ff84-4b5e-afa3-7c8dea4df7b6",
   "metadata": {},
   "outputs": [
    {
     "name": "stdout",
     "output_type": "stream",
     "text": [
      "1\n"
     ]
    }
   ],
   "source": [
    "print(min(tup))"
   ]
  },
  {
   "cell_type": "code",
   "execution_count": null,
   "id": "9004bbf2-c362-49cd-bc2a-1d4ac9466dd3",
   "metadata": {},
   "outputs": [],
   "source": []
  }
 ],
 "metadata": {
  "kernelspec": {
   "display_name": "Python 3 (ipykernel)",
   "language": "python",
   "name": "python3"
  },
  "language_info": {
   "codemirror_mode": {
    "name": "ipython",
    "version": 3
   },
   "file_extension": ".py",
   "mimetype": "text/x-python",
   "name": "python",
   "nbconvert_exporter": "python",
   "pygments_lexer": "ipython3",
   "version": "3.10.10"
  }
 },
 "nbformat": 4,
 "nbformat_minor": 5
}
